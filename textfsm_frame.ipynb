{
 "cells": [
  {
   "cell_type": "code",
   "execution_count": 1,
   "metadata": {},
   "outputs": [],
   "source": [
    "import textfsm\n",
    "from pprint import pprint"
   ]
  },
  {
   "cell_type": "code",
   "execution_count": 59,
   "metadata": {},
   "outputs": [
    {
     "name": "stdout",
     "output_type": "stream",
     "text": [
      "<class 'str'>\n"
     ]
    }
   ],
   "source": [
    "with open('juniper_show_lldp_neighbors.txt') as rfh:\n",
    "    raw_output = rfh.read()\n",
    "    \n",
    "print(type(raw_output))"
   ]
  },
  {
   "cell_type": "code",
   "execution_count": 73,
   "metadata": {},
   "outputs": [
    {
     "name": "stdout",
     "output_type": "stream",
     "text": [
      "Value Filldown RTRNAME (\\S+)\n",
      "Value Required LOCALINTF (\\S+)\n",
      "Value PARENTINTF (\\S+)\n",
      "Value CHASSISID (\\S+)\n",
      "Value PORTINFO (\\S+)\n",
      "Value SYSTEMNAME (\\w+\\-\\d+|\\w+)\n",
      "\n",
      "Start\n",
      "  ^\\S+@${RTRNAME}>.*\n",
      "  ^Local\\s+Interface\\s+Parent\\s+Interface\\s+Chassis -> NoRecord\n",
      "  ^${LOCALINTF}\\s+${PARENTINTF}\\s+${CHASSISID}\\s+${PORTINFO}\\s+${SYSTEMNAME} -> Record\n",
      "  ^. -> Error\n",
      "\n"
     ]
    }
   ],
   "source": [
    "with open('juniper_show_lldp_neighbors.textfsm') as tfh:\n",
    "    template = textfsm.TextFSM(tfh)\n",
    "\n",
    "fsm_results = template.ParseText(raw_output)\n",
    "print(template)"
   ]
  },
  {
   "cell_type": "code",
   "execution_count": 74,
   "metadata": {},
   "outputs": [
    {
     "name": "stdout",
     "output_type": "stream",
     "text": [
      "['RTRNAME', 'LOCALINTF', 'PARENTINTF', 'CHASSISID', 'PORTINFO', 'SYSTEMNAME']\n",
      "['r3', 'xe-0/0/2', '-', '00:00:00:00:00:01', 'xe-0/1/0', 'r1']\n",
      "['r3', 'xe-0/0/3', '-', '00:00:00:00:00:02', 'et-0/0/3:1', 'r2']\n",
      "['r3', 'ge-1/3/8', '-', '00:00:00:00:00:03', 'ge-0/0/13', 'r4']\n",
      "['r1', 'et-4/1/0', 'ae1', '00:00:00:00:00:01', 'et-4/1/0', 'r1']\n",
      "['r1', 'xe-4/0/1', 'ae1', '00:00:00:00:00:02', 'xe-4/0/1', 'r1']\n",
      "['r1', 'xe-0/0/0', 'ae2', '00:00:00:00:00:03', 'et-0/0/0:1', 'r2']\n",
      "['r1', 'xe-4/0/0', 'ae2', '00:00:00:00:00:04', 'et-0/0/39:3', 'r2']\n",
      "['r1', 'xe-0/1/0', '-', '00:00:00:00:00:05', 'xe-0/0/2', 'r3']\n",
      "['r1', 'ge-1/3/8', '-', '00:00:00:00:00:06', 'ge-0/0/12', 'r4']\n",
      "['r1', 'xe-0/3/3', '-', '00:00:00:00:00:07', '522', 'r5']\n"
     ]
    }
   ],
   "source": [
    "print(template.header)\n",
    "for result in fsm_results:\n",
    "    #print(len(result))\n",
    "    print(result)"
   ]
  }
 ],
 "metadata": {
  "kernelspec": {
   "display_name": "Python 3",
   "language": "python",
   "name": "python3"
  },
  "language_info": {
   "codemirror_mode": {
    "name": "ipython",
    "version": 3
   },
   "file_extension": ".py",
   "mimetype": "text/x-python",
   "name": "python",
   "nbconvert_exporter": "python",
   "pygments_lexer": "ipython3",
   "version": "3.8.1"
  }
 },
 "nbformat": 4,
 "nbformat_minor": 4
}
