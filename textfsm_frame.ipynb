{
 "cells": [
  {
   "cell_type": "code",
   "execution_count": 1,
   "metadata": {},
   "outputs": [],
   "source": [
    "import textfsm\n",
    "from pprint import pprint"
   ]
  },
  {
   "cell_type": "code",
   "execution_count": 59,
   "metadata": {},
   "outputs": [
    {
     "name": "stdout",
     "output_type": "stream",
     "text": [
      "<class 'str'>\n"
     ]
    }
   ],
   "source": [
    "with open('juniper_show_lldp_neighbors.txt') as rfh:\n",
    "    raw_output = rfh.read()\n",
    "    \n",
    "print(type(raw_output))"
   ]
  },
  {
   "cell_type": "code",
   "execution_count": 73,
   "metadata": {},
   "outputs": [
    {
     "name": "stdout",
     "output_type": "stream",
     "text": [
      "Value Filldown RTRNAME (\\S+)\n",
      "Value Required LOCALINTF (\\S+)\n",
      "Value PARENTINTF (\\S+)\n",
      "Value CHASSISID (\\S+)\n",
      "Value PORTINFO (\\S+)\n",
      "Value SYSTEMNAME (\\w+\\-\\d+|\\w+)\n",
      "\n",
      "Start\n",
      "  ^\\S+@${RTRNAME}>.*\n",
      "  ^Local\\s+Interface\\s+Parent\\s+Interface\\s+Chassis -> NoRecord\n",
      "  ^${LOCALINTF}\\s+${PARENTINTF}\\s+${CHASSISID}\\s+${PORTINFO}\\s+${SYSTEMNAME} -> Record\n",
      "  ^. -> Error\n",
      "\n"
     ]
    }
   ],
   "source": [
    "with open('juniper_show_lldp_neighbors.textfsm') as tfh:\n",
    "    template = textfsm.TextFSM(tfh)\n",
    "\n",
    "fsm_results = template.ParseText(raw_output)\n",
    "print(template)"
   ]
  },
  {
   "cell_type": "code",
   "execution_count": 74,
   "metadata": {},
   "outputs": [
    {
     "name": "stdout",
     "output_type": "stream",
     "text": [
      "['RTRNAME', 'LOCALINTF', 'PARENTINTF', 'CHASSISID', 'PORTINFO', 'SYSTEMNAME']\n",
      "['orchard', 'xe-0/0/2', '-', '54:e0:32:b8:8f:c0', 'xe-0/1/0', 'lisbon']\n",
      "['orchard', 'xe-0/0/3', '-', '7c:25:86:18:e9:60', 'et-0/0/3:1', 'g08-41']\n",
      "['orchard', 'ge-1/3/8', '-', '80:71:1f:d4:94:c0', 'ge-0/0/13', 'g16-45']\n",
      "['lisbon-re0', 'et-4/1/0', 'ae1', '54:e0:32:b8:8f:c0', 'et-4/1/0', 'lisbon']\n",
      "['lisbon-re0', 'xe-4/0/1', 'ae1', '54:e0:32:b8:8f:c0', 'xe-4/0/1', 'lisbon']\n",
      "['lisbon-re0', 'xe-0/0/0', 'ae2', '7c:25:86:18:e9:60', 'et-0/0/0:1', 'g08-41']\n",
      "['lisbon-re0', 'xe-4/0/0', 'ae2', '7c:25:86:18:e9:60', 'et-0/0/39:3', 'g08-41']\n",
      "['lisbon-re0', 'xe-0/1/0', '-', '80:71:1f:c5:ff:c0', 'xe-0/0/2', 'orchard']\n",
      "['lisbon-re0', 'ge-1/3/8', '-', '80:71:1f:d4:94:c0', 'ge-0/0/12', 'g16-45']\n",
      "['lisbon-re0', 'xe-0/3/3', '-', 'd0:07:ca:57:af:a0', '522', 'QNC']\n"
     ]
    }
   ],
   "source": [
    "print(template.header)\n",
    "for result in fsm_results:\n",
    "    #print(len(result))\n",
    "    print(result)"
   ]
  }
 ],
 "metadata": {
  "kernelspec": {
   "display_name": "Python 3",
   "language": "python",
   "name": "python3"
  },
  "language_info": {
   "codemirror_mode": {
    "name": "ipython",
    "version": 3
   },
   "file_extension": ".py",
   "mimetype": "text/x-python",
   "name": "python",
   "nbconvert_exporter": "python",
   "pygments_lexer": "ipython3",
   "version": "3.8.1"
  }
 },
 "nbformat": 4,
 "nbformat_minor": 4
}
